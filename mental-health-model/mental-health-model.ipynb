{
 "cells": [
  {
   "cell_type": "code",
   "execution_count": 1,
   "id": "61f6da35",
   "metadata": {
    "execution": {
     "iopub.execute_input": "2022-08-14T02:20:48.194285Z",
     "iopub.status.busy": "2022-08-14T02:20:48.192919Z",
     "iopub.status.idle": "2022-08-14T02:20:50.315102Z",
     "shell.execute_reply": "2022-08-14T02:20:50.313871Z"
    },
    "papermill": {
     "duration": 2.13844,
     "end_time": "2022-08-14T02:20:50.318470",
     "exception": false,
     "start_time": "2022-08-14T02:20:48.180030",
     "status": "completed"
    },
    "tags": []
   },
   "outputs": [],
   "source": [
    "import pandas as pd\n",
    "import numpy as np\n",
    "import pickle\n",
    "\n",
    "from sklearn.model_selection import RandomizedSearchCV, cross_validate\n",
    "from sklearn.ensemble import RandomForestClassifier, RandomForestRegressor\n",
    "from sklearn.linear_model import LogisticRegression, LinearRegression\n",
    "from sklearn.neighbors import KNeighborsClassifier, KNeighborsRegressor\n",
    "from sklearn.model_selection import train_test_split\n",
    "from sklearn.preprocessing import LabelEncoder\n",
    "from sklearn.metrics import accuracy_score, confusion_matrix, mean_squared_error\n",
    "from sklearn import datasets\n",
    "from sklearn.model_selection import GridSearchCV\n",
    "from catboost import CatBoostRegressor\n",
    "from xgboost import XGBClassifier, XGBRegressor\n",
    "\n",
    "import seaborn as sns\n",
    "import scipy.stats as st\n",
    "\n",
    "import warnings\n",
    "warnings.filterwarnings('ignore')\n",
    "\n",
    "import os\n",
    "\n",
    "import matplotlib.pyplot as plt"
   ]
  },
  {
   "cell_type": "code",
   "execution_count": 2,
   "id": "231a3e8c",
   "metadata": {
    "execution": {
     "iopub.execute_input": "2022-08-14T02:20:50.340603Z",
     "iopub.status.busy": "2022-08-14T02:20:50.340158Z",
     "iopub.status.idle": "2022-08-14T02:20:50.579221Z",
     "shell.execute_reply": "2022-08-14T02:20:50.578362Z"
    },
    "papermill": {
     "duration": 0.253784,
     "end_time": "2022-08-14T02:20:50.582503",
     "exception": false,
     "start_time": "2022-08-14T02:20:50.328719",
     "status": "completed"
    },
    "tags": []
   },
   "outputs": [
    {
     "data": {
      "text/html": [
       "<div>\n",
       "<style scoped>\n",
       "    .dataframe tbody tr th:only-of-type {\n",
       "        vertical-align: middle;\n",
       "    }\n",
       "\n",
       "    .dataframe tbody tr th {\n",
       "        vertical-align: top;\n",
       "    }\n",
       "\n",
       "    .dataframe thead th {\n",
       "        text-align: right;\n",
       "    }\n",
       "</style>\n",
       "<table border=\"1\" class=\"dataframe\">\n",
       "  <thead>\n",
       "    <tr style=\"text-align: right;\">\n",
       "      <th></th>\n",
       "      <th>Entity</th>\n",
       "      <th>Code</th>\n",
       "      <th>Year</th>\n",
       "      <th>DALYs (Disability-Adjusted Life Years) - Mental disorders - Sex: Both - Age: All Ages (Percent)</th>\n",
       "    </tr>\n",
       "  </thead>\n",
       "  <tbody>\n",
       "    <tr>\n",
       "      <th>0</th>\n",
       "      <td>Afghanistan</td>\n",
       "      <td>AFG</td>\n",
       "      <td>1990</td>\n",
       "      <td>1.696670</td>\n",
       "    </tr>\n",
       "    <tr>\n",
       "      <th>1</th>\n",
       "      <td>Afghanistan</td>\n",
       "      <td>AFG</td>\n",
       "      <td>1991</td>\n",
       "      <td>1.734281</td>\n",
       "    </tr>\n",
       "    <tr>\n",
       "      <th>2</th>\n",
       "      <td>Afghanistan</td>\n",
       "      <td>AFG</td>\n",
       "      <td>1992</td>\n",
       "      <td>1.791189</td>\n",
       "    </tr>\n",
       "    <tr>\n",
       "      <th>3</th>\n",
       "      <td>Afghanistan</td>\n",
       "      <td>AFG</td>\n",
       "      <td>1993</td>\n",
       "      <td>1.776779</td>\n",
       "    </tr>\n",
       "    <tr>\n",
       "      <th>4</th>\n",
       "      <td>Afghanistan</td>\n",
       "      <td>AFG</td>\n",
       "      <td>1994</td>\n",
       "      <td>1.712986</td>\n",
       "    </tr>\n",
       "    <tr>\n",
       "      <th>...</th>\n",
       "      <td>...</td>\n",
       "      <td>...</td>\n",
       "      <td>...</td>\n",
       "      <td>...</td>\n",
       "    </tr>\n",
       "    <tr>\n",
       "      <th>6835</th>\n",
       "      <td>Zimbabwe</td>\n",
       "      <td>ZWE</td>\n",
       "      <td>2015</td>\n",
       "      <td>2.193166</td>\n",
       "    </tr>\n",
       "    <tr>\n",
       "      <th>6836</th>\n",
       "      <td>Zimbabwe</td>\n",
       "      <td>ZWE</td>\n",
       "      <td>2016</td>\n",
       "      <td>2.279813</td>\n",
       "    </tr>\n",
       "    <tr>\n",
       "      <th>6837</th>\n",
       "      <td>Zimbabwe</td>\n",
       "      <td>ZWE</td>\n",
       "      <td>2017</td>\n",
       "      <td>2.364265</td>\n",
       "    </tr>\n",
       "    <tr>\n",
       "      <th>6838</th>\n",
       "      <td>Zimbabwe</td>\n",
       "      <td>ZWE</td>\n",
       "      <td>2018</td>\n",
       "      <td>2.472949</td>\n",
       "    </tr>\n",
       "    <tr>\n",
       "      <th>6839</th>\n",
       "      <td>Zimbabwe</td>\n",
       "      <td>ZWE</td>\n",
       "      <td>2019</td>\n",
       "      <td>2.525892</td>\n",
       "    </tr>\n",
       "  </tbody>\n",
       "</table>\n",
       "<p>6840 rows × 4 columns</p>\n",
       "</div>"
      ],
      "text/plain": [
       "           Entity Code  Year  \\\n",
       "0     Afghanistan  AFG  1990   \n",
       "1     Afghanistan  AFG  1991   \n",
       "2     Afghanistan  AFG  1992   \n",
       "3     Afghanistan  AFG  1993   \n",
       "4     Afghanistan  AFG  1994   \n",
       "...           ...  ...   ...   \n",
       "6835     Zimbabwe  ZWE  2015   \n",
       "6836     Zimbabwe  ZWE  2016   \n",
       "6837     Zimbabwe  ZWE  2017   \n",
       "6838     Zimbabwe  ZWE  2018   \n",
       "6839     Zimbabwe  ZWE  2019   \n",
       "\n",
       "      DALYs (Disability-Adjusted Life Years) - Mental disorders - Sex: Both - Age: All Ages (Percent)  \n",
       "0                                              1.696670                                                \n",
       "1                                              1.734281                                                \n",
       "2                                              1.791189                                                \n",
       "3                                              1.776779                                                \n",
       "4                                              1.712986                                                \n",
       "...                                                 ...                                                \n",
       "6835                                           2.193166                                                \n",
       "6836                                           2.279813                                                \n",
       "6837                                           2.364265                                                \n",
       "6838                                           2.472949                                                \n",
       "6839                                           2.525892                                                \n",
       "\n",
       "[6840 rows x 4 columns]"
      ]
     },
     "execution_count": 2,
     "metadata": {},
     "output_type": "execute_result"
    }
   ],
   "source": [
    "df = []\n",
    "for data in os.listdir('/kaggle/input/mental-health-dataset/'):\n",
    "    df1 = pd.read_csv('/kaggle/input/mental-health-dataset/'+data)\n",
    "    df.append(df1)\n",
    "df[5]"
   ]
  },
  {
   "cell_type": "code",
   "execution_count": 3,
   "id": "03810e11",
   "metadata": {
    "execution": {
     "iopub.execute_input": "2022-08-14T02:20:50.605360Z",
     "iopub.status.busy": "2022-08-14T02:20:50.604671Z",
     "iopub.status.idle": "2022-08-14T02:20:50.704021Z",
     "shell.execute_reply": "2022-08-14T02:20:50.702914Z"
    },
    "papermill": {
     "duration": 0.114179,
     "end_time": "2022-08-14T02:20:50.707150",
     "exception": false,
     "start_time": "2022-08-14T02:20:50.592971",
     "status": "completed"
    },
    "tags": []
   },
   "outputs": [],
   "source": [
    "for i in range(len(df)):\n",
    "    #print(list(i.columns))\n",
    "    #print(\"\\n\")\n",
    "    df[i].fillna(method ='ffill',axis = 0,inplace=True )\n",
    "    df[i].dropna(axis = 0,inplace=True )\n",
    "    df[i].drop('Entity', axis=1, inplace =True)"
   ]
  },
  {
   "cell_type": "code",
   "execution_count": 4,
   "id": "fd2e8ca9",
   "metadata": {
    "execution": {
     "iopub.execute_input": "2022-08-14T02:20:50.730460Z",
     "iopub.status.busy": "2022-08-14T02:20:50.730033Z",
     "iopub.status.idle": "2022-08-14T02:20:50.738945Z",
     "shell.execute_reply": "2022-08-14T02:20:50.737658Z"
    },
    "papermill": {
     "duration": 0.023429,
     "end_time": "2022-08-14T02:20:50.741530",
     "exception": false,
     "start_time": "2022-08-14T02:20:50.718101",
     "status": "completed"
    },
    "tags": []
   },
   "outputs": [],
   "source": [
    "df[0].columns = [ 'Code', 'Year',\n",
    "       'Schizophrenia',\n",
    "       'Bipolar disorder',\n",
    "       'Eating disorders',\n",
    "       'Anxiety disorders',\n",
    "       'Drug use disorders',\n",
    "       'Depressive disorders',\n",
    "       'Alcohol use disorders ']\n",
    "\n",
    "df[1].columns = ['Code', 'Year',\n",
    "       'Mental disorders']\n",
    "\n",
    "df[2].columns = ['Code', 'Year',\n",
    "       'Depressive disorders - Male',\n",
    "       'Depressive disorders - Female',\n",
    "       'Population', 'Continent']\n",
    "\n",
    "df[3].columns = [ 'Code', 'Year',\n",
    "       'Mental and substance use disorders - Male',\n",
    "       'Mental and substance use disorders - Female',\n",
    "       'Population', 'Continent']\n",
    "\n",
    "df[4].columns = [ 'Code', 'Year',\n",
    "       'Depressive disorders']\n",
    "\n",
    "df[5].columns = [ 'Code', 'Year',\n",
    "       'Disability-Adjusted Life Years']"
   ]
  },
  {
   "cell_type": "code",
   "execution_count": 5,
   "id": "dfeb8960",
   "metadata": {
    "execution": {
     "iopub.execute_input": "2022-08-14T02:20:50.765809Z",
     "iopub.status.busy": "2022-08-14T02:20:50.764887Z",
     "iopub.status.idle": "2022-08-14T02:20:50.771113Z",
     "shell.execute_reply": "2022-08-14T02:20:50.770382Z"
    },
    "papermill": {
     "duration": 0.020764,
     "end_time": "2022-08-14T02:20:50.774133",
     "exception": false,
     "start_time": "2022-08-14T02:20:50.753369",
     "status": "completed"
    },
    "tags": []
   },
   "outputs": [
    {
     "name": "stdout",
     "output_type": "stream",
     "text": [
      "data: 1\n",
      "\n",
      "['Schizophrenia', 'Bipolar disorder', 'Eating disorders', 'Anxiety disorders', 'Drug use disorders', 'Depressive disorders', 'Alcohol use disorders ']\n",
      "6840\n",
      "\n",
      "\n",
      "data: 2\n",
      "\n",
      "['Mental disorders']\n",
      "6780\n",
      "\n",
      "\n",
      "data: 3\n",
      "\n",
      "['Depressive disorders - Male', 'Depressive disorders - Female', 'Population', 'Continent']\n",
      "56394\n",
      "\n",
      "\n",
      "data: 4\n",
      "\n",
      "['Mental and substance use disorders - Male', 'Mental and substance use disorders - Female', 'Population', 'Continent']\n",
      "56628\n",
      "\n",
      "\n",
      "data: 5\n",
      "\n",
      "['Depressive disorders']\n",
      "6780\n",
      "\n",
      "\n",
      "data: 6\n",
      "\n",
      "['Disability-Adjusted Life Years']\n",
      "6840\n",
      "\n",
      "\n"
     ]
    }
   ],
   "source": [
    "for i in range(len(df)):\n",
    "    print('data: '+str(i+1)+'\\n')\n",
    "    print(list(df[i].columns[2:]))\n",
    "    print(len(df[i]))\n",
    "    print('\\n')"
   ]
  },
  {
   "cell_type": "markdown",
   "id": "3551e4da",
   "metadata": {
    "papermill": {
     "duration": 0.010044,
     "end_time": "2022-08-14T02:20:50.794786",
     "exception": false,
     "start_time": "2022-08-14T02:20:50.784742",
     "status": "completed"
    },
    "tags": []
   },
   "source": [
    "* ### Correlation bettween all diseases from df 1\n",
    "* ### Male vs Female in Depressive disorders and Mental and substance use disorders\n",
    "* ### All diseases plot vs years df 1/2/5\n",
    "* ### All diseases plot vs country\n",
    "* ### DALY vs diseases df 1/2/5"
   ]
  },
  {
   "cell_type": "markdown",
   "id": "f67b146c",
   "metadata": {
    "papermill": {
     "duration": 0.010797,
     "end_time": "2022-08-14T02:20:50.816568",
     "exception": false,
     "start_time": "2022-08-14T02:20:50.805771",
     "status": "completed"
    },
    "tags": []
   },
   "source": [
    "# Correlation bettween all diseases from df 1"
   ]
  },
  {
   "cell_type": "code",
   "execution_count": 6,
   "id": "e0841ab6",
   "metadata": {
    "execution": {
     "iopub.execute_input": "2022-08-14T02:20:50.840144Z",
     "iopub.status.busy": "2022-08-14T02:20:50.839729Z",
     "iopub.status.idle": "2022-08-14T02:20:50.931194Z",
     "shell.execute_reply": "2022-08-14T02:20:50.930045Z"
    },
    "papermill": {
     "duration": 0.106479,
     "end_time": "2022-08-14T02:20:50.934216",
     "exception": false,
     "start_time": "2022-08-14T02:20:50.827737",
     "status": "completed"
    },
    "tags": []
   },
   "outputs": [
    {
     "data": {
      "text/html": [
       "<style type=\"text/css\">\n",
       "#T_1bc4a_row0_col0, #T_1bc4a_row1_col1, #T_1bc4a_row2_col2, #T_1bc4a_row3_col3, #T_1bc4a_row4_col4, #T_1bc4a_row5_col5, #T_1bc4a_row6_col6, #T_1bc4a_row7_col7 {\n",
       "  background-color: #b40426;\n",
       "  color: #f1f1f1;\n",
       "}\n",
       "#T_1bc4a_row0_col1 {\n",
       "  background-color: #9ebeff;\n",
       "  color: #000000;\n",
       "}\n",
       "#T_1bc4a_row0_col2, #T_1bc4a_row0_col4, #T_1bc4a_row0_col7, #T_1bc4a_row1_col6, #T_1bc4a_row6_col0, #T_1bc4a_row6_col1, #T_1bc4a_row6_col3, #T_1bc4a_row6_col5, #T_1bc4a_row6_col7 {\n",
       "  background-color: #3b4cc0;\n",
       "  color: #f1f1f1;\n",
       "}\n",
       "#T_1bc4a_row0_col3, #T_1bc4a_row7_col0 {\n",
       "  background-color: #4358cb;\n",
       "  color: #f1f1f1;\n",
       "}\n",
       "#T_1bc4a_row0_col5 {\n",
       "  background-color: #5b7ae5;\n",
       "  color: #f1f1f1;\n",
       "}\n",
       "#T_1bc4a_row0_col6 {\n",
       "  background-color: #89acfd;\n",
       "  color: #000000;\n",
       "}\n",
       "#T_1bc4a_row1_col0 {\n",
       "  background-color: #536edd;\n",
       "  color: #f1f1f1;\n",
       "}\n",
       "#T_1bc4a_row1_col2 {\n",
       "  background-color: #779af7;\n",
       "  color: #f1f1f1;\n",
       "}\n",
       "#T_1bc4a_row1_col3 {\n",
       "  background-color: #e7d7ce;\n",
       "  color: #000000;\n",
       "}\n",
       "#T_1bc4a_row1_col4 {\n",
       "  background-color: #b6cefa;\n",
       "  color: #000000;\n",
       "}\n",
       "#T_1bc4a_row1_col5 {\n",
       "  background-color: #f7b89c;\n",
       "  color: #000000;\n",
       "}\n",
       "#T_1bc4a_row1_col7 {\n",
       "  background-color: #aac7fd;\n",
       "  color: #000000;\n",
       "}\n",
       "#T_1bc4a_row2_col0 {\n",
       "  background-color: #4961d2;\n",
       "  color: #f1f1f1;\n",
       "}\n",
       "#T_1bc4a_row2_col1, #T_1bc4a_row5_col2 {\n",
       "  background-color: #c4d5f3;\n",
       "  color: #000000;\n",
       "}\n",
       "#T_1bc4a_row2_col3, #T_1bc4a_row3_col5 {\n",
       "  background-color: #f7ad90;\n",
       "  color: #000000;\n",
       "}\n",
       "#T_1bc4a_row2_col4 {\n",
       "  background-color: #f2cab5;\n",
       "  color: #000000;\n",
       "}\n",
       "#T_1bc4a_row2_col5 {\n",
       "  background-color: #d1dae9;\n",
       "  color: #000000;\n",
       "}\n",
       "#T_1bc4a_row2_col6 {\n",
       "  background-color: #c5d6f2;\n",
       "  color: #000000;\n",
       "}\n",
       "#T_1bc4a_row2_col7 {\n",
       "  background-color: #b5cdfa;\n",
       "  color: #000000;\n",
       "}\n",
       "#T_1bc4a_row3_col0 {\n",
       "  background-color: #5d7ce6;\n",
       "  color: #f1f1f1;\n",
       "}\n",
       "#T_1bc4a_row3_col1 {\n",
       "  background-color: #f7b396;\n",
       "  color: #000000;\n",
       "}\n",
       "#T_1bc4a_row3_col2 {\n",
       "  background-color: #f7a98b;\n",
       "  color: #000000;\n",
       "}\n",
       "#T_1bc4a_row3_col4 {\n",
       "  background-color: #f5c2aa;\n",
       "  color: #000000;\n",
       "}\n",
       "#T_1bc4a_row3_col6 {\n",
       "  background-color: #a1c0ff;\n",
       "  color: #000000;\n",
       "}\n",
       "#T_1bc4a_row3_col7, #T_1bc4a_row4_col6 {\n",
       "  background-color: #bbd1f8;\n",
       "  color: #000000;\n",
       "}\n",
       "#T_1bc4a_row4_col0 {\n",
       "  background-color: #516ddb;\n",
       "  color: #f1f1f1;\n",
       "}\n",
       "#T_1bc4a_row4_col1 {\n",
       "  background-color: #ead4c8;\n",
       "  color: #000000;\n",
       "}\n",
       "#T_1bc4a_row4_col2 {\n",
       "  background-color: #f3c7b1;\n",
       "  color: #000000;\n",
       "}\n",
       "#T_1bc4a_row4_col3 {\n",
       "  background-color: #f5c4ac;\n",
       "  color: #000000;\n",
       "}\n",
       "#T_1bc4a_row4_col5 {\n",
       "  background-color: #d8dce2;\n",
       "  color: #000000;\n",
       "}\n",
       "#T_1bc4a_row4_col7 {\n",
       "  background-color: #7396f5;\n",
       "  color: #f1f1f1;\n",
       "}\n",
       "#T_1bc4a_row5_col0 {\n",
       "  background-color: #5470de;\n",
       "  color: #f1f1f1;\n",
       "}\n",
       "#T_1bc4a_row5_col1 {\n",
       "  background-color: #f59d7e;\n",
       "  color: #000000;\n",
       "}\n",
       "#T_1bc4a_row5_col3 {\n",
       "  background-color: #f7b99e;\n",
       "  color: #000000;\n",
       "}\n",
       "#T_1bc4a_row5_col4 {\n",
       "  background-color: #c9d7f0;\n",
       "  color: #000000;\n",
       "}\n",
       "#T_1bc4a_row5_col6 {\n",
       "  background-color: #82a6fb;\n",
       "  color: #f1f1f1;\n",
       "}\n",
       "#T_1bc4a_row5_col7 {\n",
       "  background-color: #dadce0;\n",
       "  color: #000000;\n",
       "}\n",
       "#T_1bc4a_row6_col2 {\n",
       "  background-color: #7a9df8;\n",
       "  color: #f1f1f1;\n",
       "}\n",
       "#T_1bc4a_row6_col4 {\n",
       "  background-color: #6180e9;\n",
       "  color: #f1f1f1;\n",
       "}\n",
       "#T_1bc4a_row7_col1 {\n",
       "  background-color: #dedcdb;\n",
       "  color: #000000;\n",
       "}\n",
       "#T_1bc4a_row7_col2 {\n",
       "  background-color: #b1cbfc;\n",
       "  color: #000000;\n",
       "}\n",
       "#T_1bc4a_row7_col3 {\n",
       "  background-color: #aec9fc;\n",
       "  color: #000000;\n",
       "}\n",
       "#T_1bc4a_row7_col4 {\n",
       "  background-color: #6485ec;\n",
       "  color: #f1f1f1;\n",
       "}\n",
       "#T_1bc4a_row7_col5 {\n",
       "  background-color: #e0dbd8;\n",
       "  color: #000000;\n",
       "}\n",
       "#T_1bc4a_row7_col6 {\n",
       "  background-color: #90b2fe;\n",
       "  color: #000000;\n",
       "}\n",
       "</style>\n",
       "<table id=\"T_1bc4a_\">\n",
       "  <thead>\n",
       "    <tr>\n",
       "      <th class=\"blank level0\" >&nbsp;</th>\n",
       "      <th class=\"col_heading level0 col0\" >Year</th>\n",
       "      <th class=\"col_heading level0 col1\" >Schizophrenia</th>\n",
       "      <th class=\"col_heading level0 col2\" >Bipolar disorder</th>\n",
       "      <th class=\"col_heading level0 col3\" >Eating disorders</th>\n",
       "      <th class=\"col_heading level0 col4\" >Anxiety disorders</th>\n",
       "      <th class=\"col_heading level0 col5\" >Drug use disorders</th>\n",
       "      <th class=\"col_heading level0 col6\" >Depressive disorders</th>\n",
       "      <th class=\"col_heading level0 col7\" >Alcohol use disorders </th>\n",
       "    </tr>\n",
       "  </thead>\n",
       "  <tbody>\n",
       "    <tr>\n",
       "      <th id=\"T_1bc4a_level0_row0\" class=\"row_heading level0 row0\" >Year</th>\n",
       "      <td id=\"T_1bc4a_row0_col0\" class=\"data row0 col0\" >1.000000</td>\n",
       "      <td id=\"T_1bc4a_row0_col1\" class=\"data row0 col1\" >0.046543</td>\n",
       "      <td id=\"T_1bc4a_row0_col2\" class=\"data row0 col2\" >0.013536</td>\n",
       "      <td id=\"T_1bc4a_row0_col3\" class=\"data row0 col3\" >0.079822</td>\n",
       "      <td id=\"T_1bc4a_row0_col4\" class=\"data row0 col4\" >0.043084</td>\n",
       "      <td id=\"T_1bc4a_row0_col5\" class=\"data row0 col5\" >0.053236</td>\n",
       "      <td id=\"T_1bc4a_row0_col6\" class=\"data row0 col6\" >-0.035427</td>\n",
       "      <td id=\"T_1bc4a_row0_col7\" class=\"data row0 col7\" >-0.006759</td>\n",
       "    </tr>\n",
       "    <tr>\n",
       "      <th id=\"T_1bc4a_level0_row1\" class=\"row_heading level0 row1\" >Schizophrenia</th>\n",
       "      <td id=\"T_1bc4a_row1_col0\" class=\"data row1 col0\" >0.046543</td>\n",
       "      <td id=\"T_1bc4a_row1_col1\" class=\"data row1 col1\" >1.000000</td>\n",
       "      <td id=\"T_1bc4a_row1_col2\" class=\"data row1 col2\" >0.200035</td>\n",
       "      <td id=\"T_1bc4a_row1_col3\" class=\"data row1 col3\" >0.567001</td>\n",
       "      <td id=\"T_1bc4a_row1_col4\" class=\"data row1 col4\" >0.395485</td>\n",
       "      <td id=\"T_1bc4a_row1_col5\" class=\"data row1 col5\" >0.647464</td>\n",
       "      <td id=\"T_1bc4a_row1_col6\" class=\"data row1 col6\" >-0.362826</td>\n",
       "      <td id=\"T_1bc4a_row1_col7\" class=\"data row1 col7\" >0.327868</td>\n",
       "    </tr>\n",
       "    <tr>\n",
       "      <th id=\"T_1bc4a_level0_row2\" class=\"row_heading level0 row2\" >Bipolar disorder</th>\n",
       "      <td id=\"T_1bc4a_row2_col0\" class=\"data row2 col0\" >0.013536</td>\n",
       "      <td id=\"T_1bc4a_row2_col1\" class=\"data row2 col1\" >0.200035</td>\n",
       "      <td id=\"T_1bc4a_row2_col2\" class=\"data row2 col2\" >1.000000</td>\n",
       "      <td id=\"T_1bc4a_row2_col3\" class=\"data row2 col3\" >0.712130</td>\n",
       "      <td id=\"T_1bc4a_row2_col4\" class=\"data row2 col4\" >0.620014</td>\n",
       "      <td id=\"T_1bc4a_row2_col5\" class=\"data row2 col5\" >0.421331</td>\n",
       "      <td id=\"T_1bc4a_row2_col6\" class=\"data row2 col6\" >0.206731</td>\n",
       "      <td id=\"T_1bc4a_row2_col7\" class=\"data row2 col7\" >0.361718</td>\n",
       "    </tr>\n",
       "    <tr>\n",
       "      <th id=\"T_1bc4a_level0_row3\" class=\"row_heading level0 row3\" >Eating disorders</th>\n",
       "      <td id=\"T_1bc4a_row3_col0\" class=\"data row3 col0\" >0.079822</td>\n",
       "      <td id=\"T_1bc4a_row3_col1\" class=\"data row3 col1\" >0.567001</td>\n",
       "      <td id=\"T_1bc4a_row3_col2\" class=\"data row3 col2\" >0.712130</td>\n",
       "      <td id=\"T_1bc4a_row3_col3\" class=\"data row3 col3\" >1.000000</td>\n",
       "      <td id=\"T_1bc4a_row3_col4\" class=\"data row3 col4\" >0.645671</td>\n",
       "      <td id=\"T_1bc4a_row3_col5\" class=\"data row3 col5\" >0.679770</td>\n",
       "      <td id=\"T_1bc4a_row3_col6\" class=\"data row3 col6\" >0.053520</td>\n",
       "      <td id=\"T_1bc4a_row3_col7\" class=\"data row3 col7\" >0.379949</td>\n",
       "    </tr>\n",
       "    <tr>\n",
       "      <th id=\"T_1bc4a_level0_row4\" class=\"row_heading level0 row4\" >Anxiety disorders</th>\n",
       "      <td id=\"T_1bc4a_row4_col0\" class=\"data row4 col0\" >0.043084</td>\n",
       "      <td id=\"T_1bc4a_row4_col1\" class=\"data row4 col1\" >0.395485</td>\n",
       "      <td id=\"T_1bc4a_row4_col2\" class=\"data row4 col2\" >0.620014</td>\n",
       "      <td id=\"T_1bc4a_row4_col3\" class=\"data row4 col3\" >0.645671</td>\n",
       "      <td id=\"T_1bc4a_row4_col4\" class=\"data row4 col4\" >1.000000</td>\n",
       "      <td id=\"T_1bc4a_row4_col5\" class=\"data row4 col5\" >0.452157</td>\n",
       "      <td id=\"T_1bc4a_row4_col6\" class=\"data row4 col6\" >0.162404</td>\n",
       "      <td id=\"T_1bc4a_row4_col7\" class=\"data row4 col7\" >0.170741</td>\n",
       "    </tr>\n",
       "    <tr>\n",
       "      <th id=\"T_1bc4a_level0_row5\" class=\"row_heading level0 row5\" >Drug use disorders</th>\n",
       "      <td id=\"T_1bc4a_row5_col0\" class=\"data row5 col0\" >0.053236</td>\n",
       "      <td id=\"T_1bc4a_row5_col1\" class=\"data row5 col1\" >0.647464</td>\n",
       "      <td id=\"T_1bc4a_row5_col2\" class=\"data row5 col2\" >0.421331</td>\n",
       "      <td id=\"T_1bc4a_row5_col3\" class=\"data row5 col3\" >0.679770</td>\n",
       "      <td id=\"T_1bc4a_row5_col4\" class=\"data row5 col4\" >0.452157</td>\n",
       "      <td id=\"T_1bc4a_row5_col5\" class=\"data row5 col5\" >1.000000</td>\n",
       "      <td id=\"T_1bc4a_row5_col6\" class=\"data row5 col6\" >-0.060790</td>\n",
       "      <td id=\"T_1bc4a_row5_col7\" class=\"data row5 col7\" >0.485653</td>\n",
       "    </tr>\n",
       "    <tr>\n",
       "      <th id=\"T_1bc4a_level0_row6\" class=\"row_heading level0 row6\" >Depressive disorders</th>\n",
       "      <td id=\"T_1bc4a_row6_col0\" class=\"data row6 col0\" >-0.035427</td>\n",
       "      <td id=\"T_1bc4a_row6_col1\" class=\"data row6 col1\" >-0.362826</td>\n",
       "      <td id=\"T_1bc4a_row6_col2\" class=\"data row6 col2\" >0.206731</td>\n",
       "      <td id=\"T_1bc4a_row6_col3\" class=\"data row6 col3\" >0.053520</td>\n",
       "      <td id=\"T_1bc4a_row6_col4\" class=\"data row6 col4\" >0.162404</td>\n",
       "      <td id=\"T_1bc4a_row6_col5\" class=\"data row6 col5\" >-0.060790</td>\n",
       "      <td id=\"T_1bc4a_row6_col6\" class=\"data row6 col6\" >1.000000</td>\n",
       "      <td id=\"T_1bc4a_row6_col7\" class=\"data row6 col7\" >-0.007679</td>\n",
       "    </tr>\n",
       "    <tr>\n",
       "      <th id=\"T_1bc4a_level0_row7\" class=\"row_heading level0 row7\" >Alcohol use disorders </th>\n",
       "      <td id=\"T_1bc4a_row7_col0\" class=\"data row7 col0\" >-0.006759</td>\n",
       "      <td id=\"T_1bc4a_row7_col1\" class=\"data row7 col1\" >0.327868</td>\n",
       "      <td id=\"T_1bc4a_row7_col2\" class=\"data row7 col2\" >0.361718</td>\n",
       "      <td id=\"T_1bc4a_row7_col3\" class=\"data row7 col3\" >0.379949</td>\n",
       "      <td id=\"T_1bc4a_row7_col4\" class=\"data row7 col4\" >0.170741</td>\n",
       "      <td id=\"T_1bc4a_row7_col5\" class=\"data row7 col5\" >0.485653</td>\n",
       "      <td id=\"T_1bc4a_row7_col6\" class=\"data row7 col6\" >-0.007679</td>\n",
       "      <td id=\"T_1bc4a_row7_col7\" class=\"data row7 col7\" >1.000000</td>\n",
       "    </tr>\n",
       "  </tbody>\n",
       "</table>\n"
      ],
      "text/plain": [
       "<pandas.io.formats.style.Styler at 0x7f14d282b790>"
      ]
     },
     "execution_count": 6,
     "metadata": {},
     "output_type": "execute_result"
    }
   ],
   "source": [
    "corr = df[0].corr()\n",
    "corr.style.background_gradient(cmap='coolwarm')"
   ]
  },
  {
   "cell_type": "markdown",
   "id": "cc84a398",
   "metadata": {
    "papermill": {
     "duration": 0.010181,
     "end_time": "2022-08-14T02:20:50.955010",
     "exception": false,
     "start_time": "2022-08-14T02:20:50.944829",
     "status": "completed"
    },
    "tags": []
   },
   "source": [
    "* corr: Schizophrenia and Eating disorders\n",
    "* corr: Schizophrenia and Drug use disorders\n",
    "* corr: Bipolar disorder and Eating disorders\n",
    "* corr: Bipolar disorder and Anxiety disorders\n",
    "* corr: Eating disorders and Anxiety disorders \n",
    "* corr: Eating disorders and Drug use disorders\n",
    "\n",
    "* Depressive disorders and Alcohol use disorders don't correlate with any other mental health issue.\n",
    "* Schizophrenia and Bipolar disorder and Eating disorders can cause other mental ussies."
   ]
  },
  {
   "cell_type": "markdown",
   "id": "9d8c1d2c",
   "metadata": {
    "papermill": {
     "duration": 0.010363,
     "end_time": "2022-08-14T02:20:50.975820",
     "exception": false,
     "start_time": "2022-08-14T02:20:50.965457",
     "status": "completed"
    },
    "tags": []
   },
   "source": [
    "# Male vs Female in Depressive disorders"
   ]
  },
  {
   "cell_type": "markdown",
   "id": "81f24407",
   "metadata": {
    "papermill": {
     "duration": 0.010869,
     "end_time": "2022-08-14T02:20:50.997026",
     "exception": false,
     "start_time": "2022-08-14T02:20:50.986157",
     "status": "completed"
    },
    "tags": []
   },
   "source": [
    "## Depressive disorders"
   ]
  },
  {
   "cell_type": "code",
   "execution_count": 7,
   "id": "b769834d",
   "metadata": {
    "execution": {
     "iopub.execute_input": "2022-08-14T02:20:51.020833Z",
     "iopub.status.busy": "2022-08-14T02:20:51.020044Z",
     "iopub.status.idle": "2022-08-14T02:20:51.041139Z",
     "shell.execute_reply": "2022-08-14T02:20:51.039695Z"
    },
    "papermill": {
     "duration": 0.036979,
     "end_time": "2022-08-14T02:20:51.044816",
     "exception": false,
     "start_time": "2022-08-14T02:20:51.007837",
     "status": "completed"
    },
    "tags": []
   },
   "outputs": [
    {
     "data": {
      "text/html": [
       "<div>\n",
       "<style scoped>\n",
       "    .dataframe tbody tr th:only-of-type {\n",
       "        vertical-align: middle;\n",
       "    }\n",
       "\n",
       "    .dataframe tbody tr th {\n",
       "        vertical-align: top;\n",
       "    }\n",
       "\n",
       "    .dataframe thead th {\n",
       "        text-align: right;\n",
       "    }\n",
       "</style>\n",
       "<table border=\"1\" class=\"dataframe\">\n",
       "  <thead>\n",
       "    <tr style=\"text-align: right;\">\n",
       "      <th></th>\n",
       "      <th>Code</th>\n",
       "      <th>Year</th>\n",
       "      <th>Depressive disorders - Male</th>\n",
       "      <th>Depressive disorders - Female</th>\n",
       "      <th>Population</th>\n",
       "      <th>Continent</th>\n",
       "    </tr>\n",
       "  </thead>\n",
       "  <tbody>\n",
       "    <tr>\n",
       "      <th>1</th>\n",
       "      <td>AFG</td>\n",
       "      <td>1990</td>\n",
       "      <td>4.291054</td>\n",
       "      <td>5.859656</td>\n",
       "      <td>12412311.0</td>\n",
       "      <td>Asia</td>\n",
       "    </tr>\n",
       "    <tr>\n",
       "      <th>2</th>\n",
       "      <td>AFG</td>\n",
       "      <td>1991</td>\n",
       "      <td>4.293268</td>\n",
       "      <td>5.853078</td>\n",
       "      <td>13299016.0</td>\n",
       "      <td>Asia</td>\n",
       "    </tr>\n",
       "    <tr>\n",
       "      <th>3</th>\n",
       "      <td>AFG</td>\n",
       "      <td>1992</td>\n",
       "      <td>4.298265</td>\n",
       "      <td>5.850020</td>\n",
       "      <td>14485543.0</td>\n",
       "      <td>Asia</td>\n",
       "    </tr>\n",
       "    <tr>\n",
       "      <th>4</th>\n",
       "      <td>AFG</td>\n",
       "      <td>1993</td>\n",
       "      <td>4.303087</td>\n",
       "      <td>5.844987</td>\n",
       "      <td>15816601.0</td>\n",
       "      <td>Asia</td>\n",
       "    </tr>\n",
       "    <tr>\n",
       "      <th>5</th>\n",
       "      <td>AFG</td>\n",
       "      <td>1994</td>\n",
       "      <td>4.306053</td>\n",
       "      <td>5.843623</td>\n",
       "      <td>17075728.0</td>\n",
       "      <td>Asia</td>\n",
       "    </tr>\n",
       "    <tr>\n",
       "      <th>...</th>\n",
       "      <td>...</td>\n",
       "      <td>...</td>\n",
       "      <td>...</td>\n",
       "      <td>...</td>\n",
       "      <td>...</td>\n",
       "      <td>...</td>\n",
       "    </tr>\n",
       "    <tr>\n",
       "      <th>56390</th>\n",
       "      <td>ZWE</td>\n",
       "      <td>1988</td>\n",
       "      <td>3.080472</td>\n",
       "      <td>3.941506</td>\n",
       "      <td>9849129.0</td>\n",
       "      <td>Africa</td>\n",
       "    </tr>\n",
       "    <tr>\n",
       "      <th>56391</th>\n",
       "      <td>ZWE</td>\n",
       "      <td>1989</td>\n",
       "      <td>3.080472</td>\n",
       "      <td>3.941506</td>\n",
       "      <td>10153852.0</td>\n",
       "      <td>Africa</td>\n",
       "    </tr>\n",
       "    <tr>\n",
       "      <th>56392</th>\n",
       "      <td>ZWE</td>\n",
       "      <td>2020</td>\n",
       "      <td>3.080472</td>\n",
       "      <td>3.941506</td>\n",
       "      <td>14862927.0</td>\n",
       "      <td>Africa</td>\n",
       "    </tr>\n",
       "    <tr>\n",
       "      <th>56393</th>\n",
       "      <td>ZWE</td>\n",
       "      <td>2021</td>\n",
       "      <td>3.080472</td>\n",
       "      <td>3.941506</td>\n",
       "      <td>15092171.0</td>\n",
       "      <td>Africa</td>\n",
       "    </tr>\n",
       "    <tr>\n",
       "      <th>56394</th>\n",
       "      <td>ALA</td>\n",
       "      <td>2015</td>\n",
       "      <td>3.080472</td>\n",
       "      <td>3.941506</td>\n",
       "      <td>15092171.0</td>\n",
       "      <td>Europe</td>\n",
       "    </tr>\n",
       "  </tbody>\n",
       "</table>\n",
       "<p>56394 rows × 6 columns</p>\n",
       "</div>"
      ],
      "text/plain": [
       "      Code  Year  Depressive disorders - Male  Depressive disorders - Female  \\\n",
       "1      AFG  1990                     4.291054                       5.859656   \n",
       "2      AFG  1991                     4.293268                       5.853078   \n",
       "3      AFG  1992                     4.298265                       5.850020   \n",
       "4      AFG  1993                     4.303087                       5.844987   \n",
       "5      AFG  1994                     4.306053                       5.843623   \n",
       "...    ...   ...                          ...                            ...   \n",
       "56390  ZWE  1988                     3.080472                       3.941506   \n",
       "56391  ZWE  1989                     3.080472                       3.941506   \n",
       "56392  ZWE  2020                     3.080472                       3.941506   \n",
       "56393  ZWE  2021                     3.080472                       3.941506   \n",
       "56394  ALA  2015                     3.080472                       3.941506   \n",
       "\n",
       "       Population Continent  \n",
       "1      12412311.0      Asia  \n",
       "2      13299016.0      Asia  \n",
       "3      14485543.0      Asia  \n",
       "4      15816601.0      Asia  \n",
       "5      17075728.0      Asia  \n",
       "...           ...       ...  \n",
       "56390   9849129.0    Africa  \n",
       "56391  10153852.0    Africa  \n",
       "56392  14862927.0    Africa  \n",
       "56393  15092171.0    Africa  \n",
       "56394  15092171.0    Europe  \n",
       "\n",
       "[56394 rows x 6 columns]"
      ]
     },
     "execution_count": 7,
     "metadata": {},
     "output_type": "execute_result"
    }
   ],
   "source": [
    "df[2]"
   ]
  },
  {
   "cell_type": "code",
   "execution_count": 8,
   "id": "02c9c1d3",
   "metadata": {
    "execution": {
     "iopub.execute_input": "2022-08-14T02:20:51.068956Z",
     "iopub.status.busy": "2022-08-14T02:20:51.068139Z",
     "iopub.status.idle": "2022-08-14T02:20:51.075635Z",
     "shell.execute_reply": "2022-08-14T02:20:51.074724Z"
    },
    "papermill": {
     "duration": 0.02204,
     "end_time": "2022-08-14T02:20:51.077742",
     "exception": false,
     "start_time": "2022-08-14T02:20:51.055702",
     "status": "completed"
    },
    "tags": []
   },
   "outputs": [
    {
     "data": {
      "text/plain": [
       "3.1516488466119936"
      ]
     },
     "execution_count": 8,
     "metadata": {},
     "output_type": "execute_result"
    }
   ],
   "source": [
    "M = df[2]['Depressive disorders - Male'].sum()/len(df[2])\n",
    "M"
   ]
  },
  {
   "cell_type": "code",
   "execution_count": 9,
   "id": "d803befb",
   "metadata": {
    "execution": {
     "iopub.execute_input": "2022-08-14T02:20:51.101658Z",
     "iopub.status.busy": "2022-08-14T02:20:51.100862Z",
     "iopub.status.idle": "2022-08-14T02:20:51.108102Z",
     "shell.execute_reply": "2022-08-14T02:20:51.107322Z"
    },
    "papermill": {
     "duration": 0.021894,
     "end_time": "2022-08-14T02:20:51.110307",
     "exception": false,
     "start_time": "2022-08-14T02:20:51.088413",
     "status": "completed"
    },
    "tags": []
   },
   "outputs": [
    {
     "data": {
      "text/plain": [
       "4.662427068589373"
      ]
     },
     "execution_count": 9,
     "metadata": {},
     "output_type": "execute_result"
    }
   ],
   "source": [
    "F = df[2]['Depressive disorders - Female'].sum()/len(df[2])\n",
    "F"
   ]
  },
  {
   "cell_type": "code",
   "execution_count": 10,
   "id": "8e181f4f",
   "metadata": {
    "execution": {
     "iopub.execute_input": "2022-08-14T02:20:51.134593Z",
     "iopub.status.busy": "2022-08-14T02:20:51.133924Z",
     "iopub.status.idle": "2022-08-14T02:20:51.140552Z",
     "shell.execute_reply": "2022-08-14T02:20:51.139604Z"
    },
    "papermill": {
     "duration": 0.021533,
     "end_time": "2022-08-14T02:20:51.142762",
     "exception": false,
     "start_time": "2022-08-14T02:20:51.121229",
     "status": "completed"
    },
    "tags": []
   },
   "outputs": [
    {
     "data": {
      "text/plain": [
       "1.479361215511512"
      ]
     },
     "execution_count": 10,
     "metadata": {},
     "output_type": "execute_result"
    }
   ],
   "source": [
    "F/M"
   ]
  },
  {
   "cell_type": "markdown",
   "id": "961dad8f",
   "metadata": {
    "papermill": {
     "duration": 0.010601,
     "end_time": "2022-08-14T02:20:51.164851",
     "exception": false,
     "start_time": "2022-08-14T02:20:51.154250",
     "status": "completed"
    },
    "tags": []
   },
   "source": [
    "### Female are 1.5 more to have Depressive disorders."
   ]
  },
  {
   "cell_type": "markdown",
   "id": "0028cf68",
   "metadata": {
    "papermill": {
     "duration": 0.010453,
     "end_time": "2022-08-14T02:20:51.186056",
     "exception": false,
     "start_time": "2022-08-14T02:20:51.175603",
     "status": "completed"
    },
    "tags": []
   },
   "source": [
    "### Male vs Female in substance use disorders"
   ]
  },
  {
   "cell_type": "code",
   "execution_count": 11,
   "id": "fab0cbf5",
   "metadata": {
    "execution": {
     "iopub.execute_input": "2022-08-14T02:20:51.210099Z",
     "iopub.status.busy": "2022-08-14T02:20:51.209297Z",
     "iopub.status.idle": "2022-08-14T02:20:51.227156Z",
     "shell.execute_reply": "2022-08-14T02:20:51.226207Z"
    },
    "papermill": {
     "duration": 0.032686,
     "end_time": "2022-08-14T02:20:51.229494",
     "exception": false,
     "start_time": "2022-08-14T02:20:51.196808",
     "status": "completed"
    },
    "tags": []
   },
   "outputs": [
    {
     "data": {
      "text/html": [
       "<div>\n",
       "<style scoped>\n",
       "    .dataframe tbody tr th:only-of-type {\n",
       "        vertical-align: middle;\n",
       "    }\n",
       "\n",
       "    .dataframe tbody tr th {\n",
       "        vertical-align: top;\n",
       "    }\n",
       "\n",
       "    .dataframe thead th {\n",
       "        text-align: right;\n",
       "    }\n",
       "</style>\n",
       "<table border=\"1\" class=\"dataframe\">\n",
       "  <thead>\n",
       "    <tr style=\"text-align: right;\">\n",
       "      <th></th>\n",
       "      <th>Code</th>\n",
       "      <th>Year</th>\n",
       "      <th>Mental and substance use disorders - Male</th>\n",
       "      <th>Mental and substance use disorders - Female</th>\n",
       "      <th>Population</th>\n",
       "      <th>Continent</th>\n",
       "    </tr>\n",
       "  </thead>\n",
       "  <tbody>\n",
       "    <tr>\n",
       "      <th>1</th>\n",
       "      <td>AFG</td>\n",
       "      <td>1990</td>\n",
       "      <td>17.448695</td>\n",
       "      <td>17.634233</td>\n",
       "      <td>12412311.0</td>\n",
       "      <td>Asia</td>\n",
       "    </tr>\n",
       "    <tr>\n",
       "      <th>2</th>\n",
       "      <td>AFG</td>\n",
       "      <td>1991</td>\n",
       "      <td>17.771263</td>\n",
       "      <td>17.873184</td>\n",
       "      <td>13299016.0</td>\n",
       "      <td>Asia</td>\n",
       "    </tr>\n",
       "    <tr>\n",
       "      <th>3</th>\n",
       "      <td>AFG</td>\n",
       "      <td>1992</td>\n",
       "      <td>18.051575</td>\n",
       "      <td>18.092318</td>\n",
       "      <td>14485543.0</td>\n",
       "      <td>Asia</td>\n",
       "    </tr>\n",
       "    <tr>\n",
       "      <th>4</th>\n",
       "      <td>AFG</td>\n",
       "      <td>1993</td>\n",
       "      <td>18.275848</td>\n",
       "      <td>18.265196</td>\n",
       "      <td>15816601.0</td>\n",
       "      <td>Asia</td>\n",
       "    </tr>\n",
       "    <tr>\n",
       "      <th>5</th>\n",
       "      <td>AFG</td>\n",
       "      <td>1994</td>\n",
       "      <td>18.427490</td>\n",
       "      <td>18.383394</td>\n",
       "      <td>17075728.0</td>\n",
       "      <td>Asia</td>\n",
       "    </tr>\n",
       "    <tr>\n",
       "      <th>...</th>\n",
       "      <td>...</td>\n",
       "      <td>...</td>\n",
       "      <td>...</td>\n",
       "      <td>...</td>\n",
       "      <td>...</td>\n",
       "      <td>...</td>\n",
       "    </tr>\n",
       "    <tr>\n",
       "      <th>56624</th>\n",
       "      <td>ZWE</td>\n",
       "      <td>2018</td>\n",
       "      <td>12.561063</td>\n",
       "      <td>10.740696</td>\n",
       "      <td>14438812.0</td>\n",
       "      <td>Africa</td>\n",
       "    </tr>\n",
       "    <tr>\n",
       "      <th>56625</th>\n",
       "      <td>ZWE</td>\n",
       "      <td>2019</td>\n",
       "      <td>12.561063</td>\n",
       "      <td>10.740696</td>\n",
       "      <td>14645473.0</td>\n",
       "      <td>Africa</td>\n",
       "    </tr>\n",
       "    <tr>\n",
       "      <th>56626</th>\n",
       "      <td>ZWE</td>\n",
       "      <td>2020</td>\n",
       "      <td>12.561063</td>\n",
       "      <td>10.740696</td>\n",
       "      <td>14862927.0</td>\n",
       "      <td>Africa</td>\n",
       "    </tr>\n",
       "    <tr>\n",
       "      <th>56627</th>\n",
       "      <td>ZWE</td>\n",
       "      <td>2021</td>\n",
       "      <td>12.561063</td>\n",
       "      <td>10.740696</td>\n",
       "      <td>15092171.0</td>\n",
       "      <td>Africa</td>\n",
       "    </tr>\n",
       "    <tr>\n",
       "      <th>56628</th>\n",
       "      <td>ALA</td>\n",
       "      <td>2015</td>\n",
       "      <td>12.561063</td>\n",
       "      <td>10.740696</td>\n",
       "      <td>15092171.0</td>\n",
       "      <td>Europe</td>\n",
       "    </tr>\n",
       "  </tbody>\n",
       "</table>\n",
       "<p>56628 rows × 6 columns</p>\n",
       "</div>"
      ],
      "text/plain": [
       "      Code  Year  Mental and substance use disorders - Male  \\\n",
       "1      AFG  1990                                  17.448695   \n",
       "2      AFG  1991                                  17.771263   \n",
       "3      AFG  1992                                  18.051575   \n",
       "4      AFG  1993                                  18.275848   \n",
       "5      AFG  1994                                  18.427490   \n",
       "...    ...   ...                                        ...   \n",
       "56624  ZWE  2018                                  12.561063   \n",
       "56625  ZWE  2019                                  12.561063   \n",
       "56626  ZWE  2020                                  12.561063   \n",
       "56627  ZWE  2021                                  12.561063   \n",
       "56628  ALA  2015                                  12.561063   \n",
       "\n",
       "       Mental and substance use disorders - Female  Population Continent  \n",
       "1                                        17.634233  12412311.0      Asia  \n",
       "2                                        17.873184  13299016.0      Asia  \n",
       "3                                        18.092318  14485543.0      Asia  \n",
       "4                                        18.265196  15816601.0      Asia  \n",
       "5                                        18.383394  17075728.0      Asia  \n",
       "...                                            ...         ...       ...  \n",
       "56624                                    10.740696  14438812.0    Africa  \n",
       "56625                                    10.740696  14645473.0    Africa  \n",
       "56626                                    10.740696  14862927.0    Africa  \n",
       "56627                                    10.740696  15092171.0    Africa  \n",
       "56628                                    10.740696  15092171.0    Europe  \n",
       "\n",
       "[56628 rows x 6 columns]"
      ]
     },
     "execution_count": 11,
     "metadata": {},
     "output_type": "execute_result"
    }
   ],
   "source": [
    "df[3]"
   ]
  },
  {
   "cell_type": "code",
   "execution_count": 12,
   "id": "5068a295",
   "metadata": {
    "execution": {
     "iopub.execute_input": "2022-08-14T02:20:51.254502Z",
     "iopub.status.busy": "2022-08-14T02:20:51.253680Z",
     "iopub.status.idle": "2022-08-14T02:20:51.261860Z",
     "shell.execute_reply": "2022-08-14T02:20:51.260681Z"
    },
    "papermill": {
     "duration": 0.023274,
     "end_time": "2022-08-14T02:20:51.264010",
     "exception": false,
     "start_time": "2022-08-14T02:20:51.240736",
     "status": "completed"
    },
    "tags": []
   },
   "outputs": [
    {
     "data": {
      "text/plain": [
       "12.496554048621885"
      ]
     },
     "execution_count": 12,
     "metadata": {},
     "output_type": "execute_result"
    }
   ],
   "source": [
    "M = df[3]['Mental and substance use disorders - Male'].sum()/len(df[3])\n",
    "M"
   ]
  },
  {
   "cell_type": "code",
   "execution_count": 13,
   "id": "c065bbf2",
   "metadata": {
    "execution": {
     "iopub.execute_input": "2022-08-14T02:20:51.289161Z",
     "iopub.status.busy": "2022-08-14T02:20:51.288352Z",
     "iopub.status.idle": "2022-08-14T02:20:51.296153Z",
     "shell.execute_reply": "2022-08-14T02:20:51.295074Z"
    },
    "papermill": {
     "duration": 0.023262,
     "end_time": "2022-08-14T02:20:51.298592",
     "exception": false,
     "start_time": "2022-08-14T02:20:51.275330",
     "status": "completed"
    },
    "tags": []
   },
   "outputs": [
    {
     "data": {
      "text/plain": [
       "13.18523469220922"
      ]
     },
     "execution_count": 13,
     "metadata": {},
     "output_type": "execute_result"
    }
   ],
   "source": [
    "F = df[3]['Mental and substance use disorders - Female'].sum()/len(df[3])\n",
    "F"
   ]
  },
  {
   "cell_type": "code",
   "execution_count": 14,
   "id": "b65d1623",
   "metadata": {
    "execution": {
     "iopub.execute_input": "2022-08-14T02:20:51.324602Z",
     "iopub.status.busy": "2022-08-14T02:20:51.323781Z",
     "iopub.status.idle": "2022-08-14T02:20:51.329967Z",
     "shell.execute_reply": "2022-08-14T02:20:51.329152Z"
    },
    "papermill": {
     "duration": 0.02169,
     "end_time": "2022-08-14T02:20:51.332068",
     "exception": false,
     "start_time": "2022-08-14T02:20:51.310378",
     "status": "completed"
    },
    "tags": []
   },
   "outputs": [
    {
     "data": {
      "text/plain": [
       "1.0551096438992542"
      ]
     },
     "execution_count": 14,
     "metadata": {},
     "output_type": "execute_result"
    }
   ],
   "source": [
    "F/M"
   ]
  },
  {
   "cell_type": "markdown",
   "id": "904112e7",
   "metadata": {
    "papermill": {
     "duration": 0.01119,
     "end_time": "2022-08-14T02:20:51.354831",
     "exception": false,
     "start_time": "2022-08-14T02:20:51.343641",
     "status": "completed"
    },
    "tags": []
   },
   "source": [
    "### Female are little bit more to have Depressive disorders."
   ]
  },
  {
   "cell_type": "markdown",
   "id": "f70bfe50",
   "metadata": {
    "papermill": {
     "duration": 0.011085,
     "end_time": "2022-08-14T02:20:51.377331",
     "exception": false,
     "start_time": "2022-08-14T02:20:51.366246",
     "status": "completed"
    },
    "tags": []
   },
   "source": [
    "# All diseases plot vs years"
   ]
  },
  {
   "cell_type": "code",
   "execution_count": 15,
   "id": "756574a9",
   "metadata": {
    "execution": {
     "iopub.execute_input": "2022-08-14T02:20:51.402704Z",
     "iopub.status.busy": "2022-08-14T02:20:51.401939Z",
     "iopub.status.idle": "2022-08-14T02:20:51.422815Z",
     "shell.execute_reply": "2022-08-14T02:20:51.421490Z"
    },
    "papermill": {
     "duration": 0.036836,
     "end_time": "2022-08-14T02:20:51.425534",
     "exception": false,
     "start_time": "2022-08-14T02:20:51.388698",
     "status": "completed"
    },
    "tags": []
   },
   "outputs": [
    {
     "data": {
      "text/html": [
       "<div>\n",
       "<style scoped>\n",
       "    .dataframe tbody tr th:only-of-type {\n",
       "        vertical-align: middle;\n",
       "    }\n",
       "\n",
       "    .dataframe tbody tr th {\n",
       "        vertical-align: top;\n",
       "    }\n",
       "\n",
       "    .dataframe thead th {\n",
       "        text-align: right;\n",
       "    }\n",
       "</style>\n",
       "<table border=\"1\" class=\"dataframe\">\n",
       "  <thead>\n",
       "    <tr style=\"text-align: right;\">\n",
       "      <th></th>\n",
       "      <th>Schizophrenia</th>\n",
       "      <th>Bipolar disorder</th>\n",
       "      <th>Eating disorders</th>\n",
       "      <th>Anxiety disorders</th>\n",
       "      <th>Drug use disorders</th>\n",
       "      <th>Depressive disorders</th>\n",
       "      <th>Alcohol use disorders</th>\n",
       "    </tr>\n",
       "    <tr>\n",
       "      <th>Year</th>\n",
       "      <th></th>\n",
       "      <th></th>\n",
       "      <th></th>\n",
       "      <th></th>\n",
       "      <th></th>\n",
       "      <th></th>\n",
       "      <th></th>\n",
       "    </tr>\n",
       "  </thead>\n",
       "  <tbody>\n",
       "    <tr>\n",
       "      <th>1990</th>\n",
       "      <td>0.278066</td>\n",
       "      <td>0.668309</td>\n",
       "      <td>0.195310</td>\n",
       "      <td>4.254095</td>\n",
       "      <td>0.695275</td>\n",
       "      <td>3.976425</td>\n",
       "      <td>1.568588</td>\n",
       "    </tr>\n",
       "    <tr>\n",
       "      <th>1991</th>\n",
       "      <td>0.278254</td>\n",
       "      <td>0.668588</td>\n",
       "      <td>0.195578</td>\n",
       "      <td>4.256147</td>\n",
       "      <td>0.701246</td>\n",
       "      <td>3.976146</td>\n",
       "      <td>1.568846</td>\n",
       "    </tr>\n",
       "    <tr>\n",
       "      <th>1992</th>\n",
       "      <td>0.278431</td>\n",
       "      <td>0.668887</td>\n",
       "      <td>0.195944</td>\n",
       "      <td>4.258389</td>\n",
       "      <td>0.706803</td>\n",
       "      <td>3.976241</td>\n",
       "      <td>1.569742</td>\n",
       "    </tr>\n",
       "    <tr>\n",
       "      <th>1993</th>\n",
       "      <td>0.278592</td>\n",
       "      <td>0.669190</td>\n",
       "      <td>0.196371</td>\n",
       "      <td>4.260634</td>\n",
       "      <td>0.711898</td>\n",
       "      <td>3.976523</td>\n",
       "      <td>1.571344</td>\n",
       "    </tr>\n",
       "    <tr>\n",
       "      <th>1994</th>\n",
       "      <td>0.278729</td>\n",
       "      <td>0.669495</td>\n",
       "      <td>0.196850</td>\n",
       "      <td>4.262858</td>\n",
       "      <td>0.716157</td>\n",
       "      <td>3.977223</td>\n",
       "      <td>1.573282</td>\n",
       "    </tr>\n",
       "  </tbody>\n",
       "</table>\n",
       "</div>"
      ],
      "text/plain": [
       "      Schizophrenia  Bipolar disorder  Eating disorders  Anxiety disorders  \\\n",
       "Year                                                                         \n",
       "1990       0.278066          0.668309          0.195310           4.254095   \n",
       "1991       0.278254          0.668588          0.195578           4.256147   \n",
       "1992       0.278431          0.668887          0.195944           4.258389   \n",
       "1993       0.278592          0.669190          0.196371           4.260634   \n",
       "1994       0.278729          0.669495          0.196850           4.262858   \n",
       "\n",
       "      Drug use disorders  Depressive disorders  Alcohol use disorders   \n",
       "Year                                                                    \n",
       "1990            0.695275              3.976425                1.568588  \n",
       "1991            0.701246              3.976146                1.568846  \n",
       "1992            0.706803              3.976241                1.569742  \n",
       "1993            0.711898              3.976523                1.571344  \n",
       "1994            0.716157              3.977223                1.573282  "
      ]
     },
     "execution_count": 15,
     "metadata": {},
     "output_type": "execute_result"
    }
   ],
   "source": [
    "years = df[0].groupby('Year').mean()\n",
    "years.head()"
   ]
  },
  {
   "cell_type": "code",
   "execution_count": 16,
   "id": "88d84f6a",
   "metadata": {
    "execution": {
     "iopub.execute_input": "2022-08-14T02:20:51.451811Z",
     "iopub.status.busy": "2022-08-14T02:20:51.450831Z",
     "iopub.status.idle": "2022-08-14T02:20:51.732926Z",
     "shell.execute_reply": "2022-08-14T02:20:51.731709Z"
    },
    "papermill": {
     "duration": 0.298344,
     "end_time": "2022-08-14T02:20:51.735872",
     "exception": false,
     "start_time": "2022-08-14T02:20:51.437528",
     "status": "completed"
    },
    "tags": []
   },
   "outputs": [
    {
     "data": {
      "image/png": "[encoded data removed]",
      "text/plain": [
       "<Figure size 432x288 with 1 Axes>"
      ]
     },
     "metadata": {
      "needs_background": "light"
     },
     "output_type": "display_data"
    }
   ],
   "source": [
    "for i in years.columns:\n",
    "    plt.scatter(years.index, years[str(i)])"
   ]
  },
  {
   "cell_type": "code",
   "execution_count": 17,
   "id": "9a50b7e6",
   "metadata": {
    "execution": {
     "iopub.execute_input": "2022-08-14T02:20:51.763438Z",
     "iopub.status.busy": "2022-08-14T02:20:51.763044Z",
     "iopub.status.idle": "2022-08-14T02:20:51.775831Z",
     "shell.execute_reply": "2022-08-14T02:20:51.774553Z"
    },
    "papermill": {
     "duration": 0.029777,
     "end_time": "2022-08-14T02:20:51.778669",
     "exception": false,
     "start_time": "2022-08-14T02:20:51.748892",
     "status": "completed"
    },
    "tags": []
   },
   "outputs": [
    {
     "data": {
      "text/html": [
       "<div>\n",
       "<style scoped>\n",
       "    .dataframe tbody tr th:only-of-type {\n",
       "        vertical-align: middle;\n",
       "    }\n",
       "\n",
       "    .dataframe tbody tr th {\n",
       "        vertical-align: top;\n",
       "    }\n",
       "\n",
       "    .dataframe thead th {\n",
       "        text-align: right;\n",
       "    }\n",
       "</style>\n",
       "<table border=\"1\" class=\"dataframe\">\n",
       "  <thead>\n",
       "    <tr style=\"text-align: right;\">\n",
       "      <th></th>\n",
       "      <th>Mental disorders</th>\n",
       "    </tr>\n",
       "    <tr>\n",
       "      <th>Year</th>\n",
       "      <th></th>\n",
       "    </tr>\n",
       "  </thead>\n",
       "  <tbody>\n",
       "    <tr>\n",
       "      <th>1990</th>\n",
       "      <td>13.372666</td>\n",
       "    </tr>\n",
       "    <tr>\n",
       "      <th>1991</th>\n",
       "      <td>13.378784</td>\n",
       "    </tr>\n",
       "    <tr>\n",
       "      <th>1992</th>\n",
       "      <td>13.384990</td>\n",
       "    </tr>\n",
       "    <tr>\n",
       "      <th>1993</th>\n",
       "      <td>13.390664</td>\n",
       "    </tr>\n",
       "    <tr>\n",
       "      <th>1994</th>\n",
       "      <td>13.395535</td>\n",
       "    </tr>\n",
       "  </tbody>\n",
       "</table>\n",
       "</div>"
      ],
      "text/plain": [
       "      Mental disorders\n",
       "Year                  \n",
       "1990         13.372666\n",
       "1991         13.378784\n",
       "1992         13.384990\n",
       "1993         13.390664\n",
       "1994         13.395535"
      ]
     },
     "execution_count": 17,
     "metadata": {},
     "output_type": "execute_result"
    }
   ],
   "source": [
    "years2 = df[1].groupby('Year').mean()\n",
    "years2.head()"
   ]
  },
  {
   "cell_type": "code",
   "execution_count": 18,
   "id": "e076c796",
   "metadata": {
    "execution": {
     "iopub.execute_input": "2022-08-14T02:20:51.806437Z",
     "iopub.status.busy": "2022-08-14T02:20:51.805347Z",
     "iopub.status.idle": "2022-08-14T02:20:52.008571Z",
     "shell.execute_reply": "2022-08-14T02:20:52.007658Z"
    },
    "papermill": {
     "duration": 0.219549,
     "end_time": "2022-08-14T02:20:52.010885",
     "exception": false,
     "start_time": "2022-08-14T02:20:51.791336",
     "status": "completed"
    },
    "tags": []
   },
   "outputs": [
    {
     "data": {
      "image/png": "[encoded data removed]",
      "text/plain": [
       "<Figure size 432x288 with 1 Axes>"
      ]
     },
     "metadata": {
      "needs_background": "light"
     },
     "output_type": "display_data"
    }
   ],
   "source": [
    "for i in years2.columns:\n",
    "    plt.scatter(years2.index, years2[str(i)])"
   ]
  },
  {
   "cell_type": "code",
   "execution_count": 19,
   "id": "2b935f11",
   "metadata": {
    "execution": {
     "iopub.execute_input": "2022-08-14T02:20:52.041912Z",
     "iopub.status.busy": "2022-08-14T02:20:52.040907Z",
     "iopub.status.idle": "2022-08-14T02:20:52.054918Z",
     "shell.execute_reply": "2022-08-14T02:20:52.053803Z"
    },
    "papermill": {
     "duration": 0.032327,
     "end_time": "2022-08-14T02:20:52.057433",
     "exception": false,
     "start_time": "2022-08-14T02:20:52.025106",
     "status": "completed"
    },
    "tags": []
   },
   "outputs": [
    {
     "data": {
      "text/html": [
       "<div>\n",
       "<style scoped>\n",
       "    .dataframe tbody tr th:only-of-type {\n",
       "        vertical-align: middle;\n",
       "    }\n",
       "\n",
       "    .dataframe tbody tr th {\n",
       "        vertical-align: top;\n",
       "    }\n",
       "\n",
       "    .dataframe thead th {\n",
       "        text-align: right;\n",
       "    }\n",
       "</style>\n",
       "<table border=\"1\" class=\"dataframe\">\n",
       "  <thead>\n",
       "    <tr style=\"text-align: right;\">\n",
       "      <th></th>\n",
       "      <th>Depressive disorders</th>\n",
       "    </tr>\n",
       "    <tr>\n",
       "      <th>Year</th>\n",
       "      <th></th>\n",
       "    </tr>\n",
       "  </thead>\n",
       "  <tbody>\n",
       "    <tr>\n",
       "      <th>1990</th>\n",
       "      <td>3.988859</td>\n",
       "    </tr>\n",
       "    <tr>\n",
       "      <th>1991</th>\n",
       "      <td>3.988706</td>\n",
       "    </tr>\n",
       "    <tr>\n",
       "      <th>1992</th>\n",
       "      <td>3.988921</td>\n",
       "    </tr>\n",
       "    <tr>\n",
       "      <th>1993</th>\n",
       "      <td>3.989313</td>\n",
       "    </tr>\n",
       "    <tr>\n",
       "      <th>1994</th>\n",
       "      <td>3.990135</td>\n",
       "    </tr>\n",
       "  </tbody>\n",
       "</table>\n",
       "</div>"
      ],
      "text/plain": [
       "      Depressive disorders\n",
       "Year                      \n",
       "1990              3.988859\n",
       "1991              3.988706\n",
       "1992              3.988921\n",
       "1993              3.989313\n",
       "1994              3.990135"
      ]
     },
     "execution_count": 19,
     "metadata": {},
     "output_type": "execute_result"
    }
   ],
   "source": [
    "years3 = df[4].groupby('Year').mean()\n",
    "years3.head()"
   ]
  },
  {
   "cell_type": "code",
   "execution_count": 20,
   "id": "378a18d4",
   "metadata": {
    "execution": {
     "iopub.execute_input": "2022-08-14T02:20:52.085969Z",
     "iopub.status.busy": "2022-08-14T02:20:52.085559Z",
     "iopub.status.idle": "2022-08-14T02:20:52.289040Z",
     "shell.execute_reply": "2022-08-14T02:20:52.287620Z"
    },
    "papermill": {
     "duration": 0.221106,
     "end_time": "2022-08-14T02:20:52.291767",
     "exception": false,
     "start_time": "2022-08-14T02:20:52.070661",
     "status": "completed"
    },
    "tags": []
   },
   "outputs": [
    {
     "data": {
      "image/png": "[encoded data removed]",
      "text/plain": [
       "<Figure size 432x288 with 1 Axes>"
      ]
     },
     "metadata": {
      "needs_background": "light"
     },
     "output_type": "display_data"
    }
   ],
   "source": [
    "for i in years3.columns:\n",
    "    plt.scatter(years3.index, years3[str(i)])"
   ]
  },
  {
   "cell_type": "markdown",
   "id": "53b1b345",
   "metadata": {
    "papermill": {
     "duration": 0.013116,
     "end_time": "2022-08-14T02:20:52.318336",
     "exception": false,
     "start_time": "2022-08-14T02:20:52.305220",
     "status": "completed"
    },
    "tags": []
   },
   "source": [
    "# All diseases plot vs country"
   ]
  },
  {
   "cell_type": "code",
   "execution_count": 21,
   "id": "683fe9e7",
   "metadata": {
    "execution": {
     "iopub.execute_input": "2022-08-14T02:20:52.347438Z",
     "iopub.status.busy": "2022-08-14T02:20:52.346981Z",
     "iopub.status.idle": "2022-08-14T02:20:52.367313Z",
     "shell.execute_reply": "2022-08-14T02:20:52.366383Z"
    },
    "papermill": {
     "duration": 0.037551,
     "end_time": "2022-08-14T02:20:52.369500",
     "exception": false,
     "start_time": "2022-08-14T02:20:52.331949",
     "status": "completed"
    },
    "tags": []
   },
   "outputs": [
    {
     "data": {
      "text/html": [
       "<div>\n",
       "<style scoped>\n",
       "    .dataframe tbody tr th:only-of-type {\n",
       "        vertical-align: middle;\n",
       "    }\n",
       "\n",
       "    .dataframe tbody tr th {\n",
       "        vertical-align: top;\n",
       "    }\n",
       "\n",
       "    .dataframe thead th {\n",
       "        text-align: right;\n",
       "    }\n",
       "</style>\n",
       "<table border=\"1\" class=\"dataframe\">\n",
       "  <thead>\n",
       "    <tr style=\"text-align: right;\">\n",
       "      <th></th>\n",
       "      <th>Schizophrenia</th>\n",
       "      <th>Bipolar disorder</th>\n",
       "      <th>Eating disorders</th>\n",
       "      <th>Anxiety disorders</th>\n",
       "      <th>Drug use disorders</th>\n",
       "      <th>Depressive disorders</th>\n",
       "      <th>Alcohol use disorders</th>\n",
       "    </tr>\n",
       "    <tr>\n",
       "      <th>Code</th>\n",
       "      <th></th>\n",
       "      <th></th>\n",
       "      <th></th>\n",
       "      <th></th>\n",
       "      <th></th>\n",
       "      <th></th>\n",
       "      <th></th>\n",
       "    </tr>\n",
       "  </thead>\n",
       "  <tbody>\n",
       "    <tr>\n",
       "      <th>AFG</th>\n",
       "      <td>0.220437</td>\n",
       "      <td>0.651745</td>\n",
       "      <td>0.106661</td>\n",
       "      <td>4.194898</td>\n",
       "      <td>0.460596</td>\n",
       "      <td>4.899129</td>\n",
       "      <td>0.780531</td>\n",
       "    </tr>\n",
       "    <tr>\n",
       "      <th>AGO</th>\n",
       "      <td>0.217549</td>\n",
       "      <td>0.560313</td>\n",
       "      <td>0.116408</td>\n",
       "      <td>4.016852</td>\n",
       "      <td>0.357315</td>\n",
       "      <td>5.912724</td>\n",
       "      <td>1.155316</td>\n",
       "    </tr>\n",
       "    <tr>\n",
       "      <th>ALB</th>\n",
       "      <td>0.301066</td>\n",
       "      <td>0.576012</td>\n",
       "      <td>0.121142</td>\n",
       "      <td>3.968011</td>\n",
       "      <td>0.470679</td>\n",
       "      <td>2.586824</td>\n",
       "      <td>1.726101</td>\n",
       "    </tr>\n",
       "    <tr>\n",
       "      <th>AND</th>\n",
       "      <td>0.316339</td>\n",
       "      <td>1.024928</td>\n",
       "      <td>0.547938</td>\n",
       "      <td>5.945778</td>\n",
       "      <td>1.038234</td>\n",
       "      <td>3.947859</td>\n",
       "      <td>2.260065</td>\n",
       "    </tr>\n",
       "    <tr>\n",
       "      <th>ARE</th>\n",
       "      <td>0.294783</td>\n",
       "      <td>0.783399</td>\n",
       "      <td>0.329909</td>\n",
       "      <td>4.337508</td>\n",
       "      <td>0.686818</td>\n",
       "      <td>3.847843</td>\n",
       "      <td>0.591822</td>\n",
       "    </tr>\n",
       "  </tbody>\n",
       "</table>\n",
       "</div>"
      ],
      "text/plain": [
       "      Schizophrenia  Bipolar disorder  Eating disorders  Anxiety disorders  \\\n",
       "Code                                                                         \n",
       "AFG        0.220437          0.651745          0.106661           4.194898   \n",
       "AGO        0.217549          0.560313          0.116408           4.016852   \n",
       "ALB        0.301066          0.576012          0.121142           3.968011   \n",
       "AND        0.316339          1.024928          0.547938           5.945778   \n",
       "ARE        0.294783          0.783399          0.329909           4.337508   \n",
       "\n",
       "      Drug use disorders  Depressive disorders  Alcohol use disorders   \n",
       "Code                                                                    \n",
       "AFG             0.460596              4.899129                0.780531  \n",
       "AGO             0.357315              5.912724                1.155316  \n",
       "ALB             0.470679              2.586824                1.726101  \n",
       "AND             1.038234              3.947859                2.260065  \n",
       "ARE             0.686818              3.847843                0.591822  "
      ]
     },
     "execution_count": 21,
     "metadata": {},
     "output_type": "execute_result"
    }
   ],
   "source": [
    "country = df[0].groupby('Code').mean().drop('Year', axis = 1)\n",
    "country.head()"
   ]
  },
  {
   "cell_type": "code",
   "execution_count": 22,
   "id": "f0088509",
   "metadata": {
    "execution": {
     "iopub.execute_input": "2022-08-14T02:20:52.400646Z",
     "iopub.status.busy": "2022-08-14T02:20:52.399965Z",
     "iopub.status.idle": "2022-08-14T02:20:54.158834Z",
     "shell.execute_reply": "2022-08-14T02:20:54.157456Z"
    },
    "papermill": {
     "duration": 1.778043,
     "end_time": "2022-08-14T02:20:54.162599",
     "exception": false,
     "start_time": "2022-08-14T02:20:52.384556",
     "status": "completed"
    },
    "tags": []
   },
   "outputs": [
    {
     "data": {
      "image/png": "[encoded data removed]",
      "text/plain": [
       "<Figure size 1440x360 with 1 Axes>"
      ]
     },
     "metadata": {
      "needs_background": "light"
     },
     "output_type": "display_data"
    }
   ],
   "source": [
    "plt.figure(figsize=(20, 5))\n",
    "for i in country.columns:\n",
    "    plt.scatter(country.index, country[str(i)])\n",
    "    plt.xticks(rotation = 90,fontsize = 8)\n"
   ]
  },
  {
   "cell_type": "code",
   "execution_count": 23,
   "id": "50299d45",
   "metadata": {
    "execution": {
     "iopub.execute_input": "2022-08-14T02:20:54.196256Z",
     "iopub.status.busy": "2022-08-14T02:20:54.194483Z",
     "iopub.status.idle": "2022-08-14T02:20:54.210937Z",
     "shell.execute_reply": "2022-08-14T02:20:54.209737Z"
    },
    "papermill": {
     "duration": 0.035064,
     "end_time": "2022-08-14T02:20:54.213179",
     "exception": false,
     "start_time": "2022-08-14T02:20:54.178115",
     "status": "completed"
    },
    "tags": []
   },
   "outputs": [
    {
     "data": {
      "text/html": [
       "<div>\n",
       "<style scoped>\n",
       "    .dataframe tbody tr th:only-of-type {\n",
       "        vertical-align: middle;\n",
       "    }\n",
       "\n",
       "    .dataframe tbody tr th {\n",
       "        vertical-align: top;\n",
       "    }\n",
       "\n",
       "    .dataframe thead th {\n",
       "        text-align: right;\n",
       "    }\n",
       "</style>\n",
       "<table border=\"1\" class=\"dataframe\">\n",
       "  <thead>\n",
       "    <tr style=\"text-align: right;\">\n",
       "      <th></th>\n",
       "      <th>Mental disorders</th>\n",
       "    </tr>\n",
       "    <tr>\n",
       "      <th>Code</th>\n",
       "      <th></th>\n",
       "    </tr>\n",
       "  </thead>\n",
       "  <tbody>\n",
       "    <tr>\n",
       "      <th>AFG</th>\n",
       "      <td>14.897484</td>\n",
       "    </tr>\n",
       "    <tr>\n",
       "      <th>AGO</th>\n",
       "      <td>13.520008</td>\n",
       "    </tr>\n",
       "    <tr>\n",
       "      <th>ALB</th>\n",
       "      <td>11.629745</td>\n",
       "    </tr>\n",
       "    <tr>\n",
       "      <th>AND</th>\n",
       "      <td>15.413481</td>\n",
       "    </tr>\n",
       "    <tr>\n",
       "      <th>ARE</th>\n",
       "      <td>12.437468</td>\n",
       "    </tr>\n",
       "  </tbody>\n",
       "</table>\n",
       "</div>"
      ],
      "text/plain": [
       "      Mental disorders\n",
       "Code                  \n",
       "AFG          14.897484\n",
       "AGO          13.520008\n",
       "ALB          11.629745\n",
       "AND          15.413481\n",
       "ARE          12.437468"
      ]
     },
     "execution_count": 23,
     "metadata": {},
     "output_type": "execute_result"
    }
   ],
   "source": [
    "country2 = df[1].groupby('Code').mean().drop('Year', axis = 1)\n",
    "country2.head()"
   ]
  },
  {
   "cell_type": "code",
   "execution_count": 24,
   "id": "2eab4eb1",
   "metadata": {
    "execution": {
     "iopub.execute_input": "2022-08-14T02:20:54.245169Z",
     "iopub.status.busy": "2022-08-14T02:20:54.244750Z",
     "iopub.status.idle": "2022-08-14T02:20:56.013690Z",
     "shell.execute_reply": "2022-08-14T02:20:56.012321Z"
    },
    "papermill": {
     "duration": 1.788217,
     "end_time": "2022-08-14T02:20:56.016364",
     "exception": false,
     "start_time": "2022-08-14T02:20:54.228147",
     "status": "completed"
    },
    "tags": []
   },
   "outputs": [
    {
     "data": {
      "image/png": "[encoded data removed]",
      "text/plain": [
       "<Figure size 1440x360 with 1 Axes>"
      ]
     },
     "metadata": {
      "needs_background": "light"
     },
     "output_type": "display_data"
    }
   ],
   "source": [
    "plt.figure(figsize=(20, 5))\n",
    "for i in country2.columns:\n",
    "    plt.scatter(country2.index, country2[str(i)])\n",
    "    plt.xticks(rotation = 90,fontsize = 8)"
   ]
  },
  {
   "cell_type": "code",
   "execution_count": 25,
   "id": "15926c5a",
   "metadata": {
    "execution": {
     "iopub.execute_input": "2022-08-14T02:20:56.051614Z",
     "iopub.status.busy": "2022-08-14T02:20:56.051205Z",
     "iopub.status.idle": "2022-08-14T02:20:56.066974Z",
     "shell.execute_reply": "2022-08-14T02:20:56.065559Z"
    },
    "papermill": {
     "duration": 0.037815,
     "end_time": "2022-08-14T02:20:56.069970",
     "exception": false,
     "start_time": "2022-08-14T02:20:56.032155",
     "status": "completed"
    },
    "tags": []
   },
   "outputs": [
    {
     "data": {
      "text/html": [
       "<div>\n",
       "<style scoped>\n",
       "    .dataframe tbody tr th:only-of-type {\n",
       "        vertical-align: middle;\n",
       "    }\n",
       "\n",
       "    .dataframe tbody tr th {\n",
       "        vertical-align: top;\n",
       "    }\n",
       "\n",
       "    .dataframe thead th {\n",
       "        text-align: right;\n",
       "    }\n",
       "</style>\n",
       "<table border=\"1\" class=\"dataframe\">\n",
       "  <thead>\n",
       "    <tr style=\"text-align: right;\">\n",
       "      <th></th>\n",
       "      <th>Depressive disorders</th>\n",
       "    </tr>\n",
       "    <tr>\n",
       "      <th>Code</th>\n",
       "      <th></th>\n",
       "    </tr>\n",
       "  </thead>\n",
       "  <tbody>\n",
       "    <tr>\n",
       "      <th>AFG</th>\n",
       "      <td>4.899129</td>\n",
       "    </tr>\n",
       "    <tr>\n",
       "      <th>AGO</th>\n",
       "      <td>5.912724</td>\n",
       "    </tr>\n",
       "    <tr>\n",
       "      <th>ALB</th>\n",
       "      <td>2.586824</td>\n",
       "    </tr>\n",
       "    <tr>\n",
       "      <th>AND</th>\n",
       "      <td>3.947859</td>\n",
       "    </tr>\n",
       "    <tr>\n",
       "      <th>ARE</th>\n",
       "      <td>3.847843</td>\n",
       "    </tr>\n",
       "  </tbody>\n",
       "</table>\n",
       "</div>"
      ],
      "text/plain": [
       "      Depressive disorders\n",
       "Code                      \n",
       "AFG               4.899129\n",
       "AGO               5.912724\n",
       "ALB               2.586824\n",
       "AND               3.947859\n",
       "ARE               3.847843"
      ]
     },
     "execution_count": 25,
     "metadata": {},
     "output_type": "execute_result"
    }
   ],
   "source": [
    "country3 = df[4].groupby('Code').mean().drop('Year', axis = 1)\n",
    "country3.head()"
   ]
  },
  {
   "cell_type": "code",
   "execution_count": 26,
   "id": "453dac2a",
   "metadata": {
    "execution": {
     "iopub.execute_input": "2022-08-14T02:20:56.103807Z",
     "iopub.status.busy": "2022-08-14T02:20:56.103421Z",
     "iopub.status.idle": "2022-08-14T02:20:57.745524Z",
     "shell.execute_reply": "2022-08-14T02:20:57.744099Z"
    },
    "papermill": {
     "duration": 1.662461,
     "end_time": "2022-08-14T02:20:57.748392",
     "exception": false,
     "start_time": "2022-08-14T02:20:56.085931",
     "status": "completed"
    },
    "tags": []
   },
   "outputs": [
    {
     "data": {
      "image/png": "[encoded data removed]",
      "text/plain": [
       "<Figure size 1440x360 with 1 Axes>"
      ]
     },
     "metadata": {
      "needs_background": "light"
     },
     "output_type": "display_data"
    }
   ],
   "source": [
    "plt.figure(figsize=(20, 5))\n",
    "for i in country3.columns:\n",
    "    plt.scatter(country3.index, country3[str(i)])\n",
    "    plt.xticks(rotation = 90,fontsize = 8)"
   ]
  },
  {
   "cell_type": "markdown",
   "id": "d297bbc1",
   "metadata": {
    "papermill": {
     "duration": 0.016657,
     "end_time": "2022-08-14T02:20:57.782024",
     "exception": false,
     "start_time": "2022-08-14T02:20:57.765367",
     "status": "completed"
    },
    "tags": []
   },
   "source": [
    "# DALY vs diseases df 1/2/5"
   ]
  },
  {
   "cell_type": "markdown",
   "id": "fdfd3e7f",
   "metadata": {
    "papermill": {
     "duration": 0.016643,
     "end_time": "2022-08-14T02:20:57.816438",
     "exception": false,
     "start_time": "2022-08-14T02:20:57.799795",
     "status": "completed"
    },
    "tags": []
   },
   "source": [
    "### Merging"
   ]
  },
  {
   "cell_type": "code",
   "execution_count": 27,
   "id": "6ed978ef",
   "metadata": {
    "execution": {
     "iopub.execute_input": "2022-08-14T02:20:57.851946Z",
     "iopub.status.busy": "2022-08-14T02:20:57.851542Z",
     "iopub.status.idle": "2022-08-14T02:20:57.883751Z",
     "shell.execute_reply": "2022-08-14T02:20:57.882820Z"
    },
    "papermill": {
     "duration": 0.053086,
     "end_time": "2022-08-14T02:20:57.886304",
     "exception": false,
     "start_time": "2022-08-14T02:20:57.833218",
     "status": "completed"
    },
    "tags": []
   },
   "outputs": [
    {
     "data": {
      "text/html": [
       "<div>\n",
       "<style scoped>\n",
       "    .dataframe tbody tr th:only-of-type {\n",
       "        vertical-align: middle;\n",
       "    }\n",
       "\n",
       "    .dataframe tbody tr th {\n",
       "        vertical-align: top;\n",
       "    }\n",
       "\n",
       "    .dataframe thead th {\n",
       "        text-align: right;\n",
       "    }\n",
       "</style>\n",
       "<table border=\"1\" class=\"dataframe\">\n",
       "  <thead>\n",
       "    <tr style=\"text-align: right;\">\n",
       "      <th></th>\n",
       "      <th>Code</th>\n",
       "      <th>Year</th>\n",
       "      <th>Schizophrenia</th>\n",
       "      <th>Bipolar disorder</th>\n",
       "      <th>Eating disorders</th>\n",
       "      <th>Anxiety disorders</th>\n",
       "      <th>Drug use disorders</th>\n",
       "      <th>Depressive disorders</th>\n",
       "      <th>Alcohol use disorders</th>\n",
       "      <th>Mental disorders</th>\n",
       "      <th>Disability-Adjusted Life Years</th>\n",
       "    </tr>\n",
       "  </thead>\n",
       "  <tbody>\n",
       "    <tr>\n",
       "      <th>0</th>\n",
       "      <td>AFG</td>\n",
       "      <td>1990</td>\n",
       "      <td>0.228979</td>\n",
       "      <td>0.721207</td>\n",
       "      <td>0.131001</td>\n",
       "      <td>4.835127</td>\n",
       "      <td>0.454202</td>\n",
       "      <td>5.125291</td>\n",
       "      <td>0.444036</td>\n",
       "      <td>16.659229</td>\n",
       "      <td>1.696670</td>\n",
       "    </tr>\n",
       "    <tr>\n",
       "      <th>1</th>\n",
       "      <td>AFG</td>\n",
       "      <td>1990</td>\n",
       "      <td>0.228979</td>\n",
       "      <td>0.721207</td>\n",
       "      <td>0.131001</td>\n",
       "      <td>4.835127</td>\n",
       "      <td>0.454202</td>\n",
       "      <td>5.125291</td>\n",
       "      <td>0.444036</td>\n",
       "      <td>16.659229</td>\n",
       "      <td>1.417621</td>\n",
       "    </tr>\n",
       "    <tr>\n",
       "      <th>2</th>\n",
       "      <td>AFG</td>\n",
       "      <td>1990</td>\n",
       "      <td>0.228979</td>\n",
       "      <td>0.721207</td>\n",
       "      <td>0.131001</td>\n",
       "      <td>4.835127</td>\n",
       "      <td>0.454202</td>\n",
       "      <td>5.125291</td>\n",
       "      <td>0.444036</td>\n",
       "      <td>12.411191</td>\n",
       "      <td>1.696670</td>\n",
       "    </tr>\n",
       "    <tr>\n",
       "      <th>3</th>\n",
       "      <td>AFG</td>\n",
       "      <td>1990</td>\n",
       "      <td>0.228979</td>\n",
       "      <td>0.721207</td>\n",
       "      <td>0.131001</td>\n",
       "      <td>4.835127</td>\n",
       "      <td>0.454202</td>\n",
       "      <td>5.125291</td>\n",
       "      <td>0.444036</td>\n",
       "      <td>12.411191</td>\n",
       "      <td>1.417621</td>\n",
       "    </tr>\n",
       "    <tr>\n",
       "      <th>4</th>\n",
       "      <td>AFG</td>\n",
       "      <td>1990</td>\n",
       "      <td>0.216352</td>\n",
       "      <td>0.581938</td>\n",
       "      <td>0.102983</td>\n",
       "      <td>3.537832</td>\n",
       "      <td>0.437110</td>\n",
       "      <td>4.725167</td>\n",
       "      <td>1.152445</td>\n",
       "      <td>16.659229</td>\n",
       "      <td>1.696670</td>\n",
       "    </tr>\n",
       "  </tbody>\n",
       "</table>\n",
       "</div>"
      ],
      "text/plain": [
       "  Code  Year  Schizophrenia  Bipolar disorder  Eating disorders  \\\n",
       "0  AFG  1990       0.228979          0.721207          0.131001   \n",
       "1  AFG  1990       0.228979          0.721207          0.131001   \n",
       "2  AFG  1990       0.228979          0.721207          0.131001   \n",
       "3  AFG  1990       0.228979          0.721207          0.131001   \n",
       "4  AFG  1990       0.216352          0.581938          0.102983   \n",
       "\n",
       "   Anxiety disorders  Drug use disorders  Depressive disorders  \\\n",
       "0           4.835127            0.454202              5.125291   \n",
       "1           4.835127            0.454202              5.125291   \n",
       "2           4.835127            0.454202              5.125291   \n",
       "3           4.835127            0.454202              5.125291   \n",
       "4           3.537832            0.437110              4.725167   \n",
       "\n",
       "   Alcohol use disorders   Mental disorders  Disability-Adjusted Life Years  \n",
       "0                0.444036         16.659229                        1.696670  \n",
       "1                0.444036         16.659229                        1.417621  \n",
       "2                0.444036         12.411191                        1.696670  \n",
       "3                0.444036         12.411191                        1.417621  \n",
       "4                1.152445         16.659229                        1.696670  "
      ]
     },
     "execution_count": 27,
     "metadata": {},
     "output_type": "execute_result"
    }
   ],
   "source": [
    "merged = df[0].merge(df[1], on=[\"Code\", \"Year\"]).merge(df[5], on=[\"Code\", \"Year\"])\n",
    "merged.head()"
   ]
  },
  {
   "cell_type": "markdown",
   "id": "97bfec33",
   "metadata": {
    "papermill": {
     "duration": 0.017125,
     "end_time": "2022-08-14T02:20:57.921500",
     "exception": false,
     "start_time": "2022-08-14T02:20:57.904375",
     "status": "completed"
    },
    "tags": []
   },
   "source": [
    "### Modeling "
   ]
  },
  {
   "cell_type": "code",
   "execution_count": 28,
   "id": "ecfcfe88",
   "metadata": {
    "execution": {
     "iopub.execute_input": "2022-08-14T02:20:57.957993Z",
     "iopub.status.busy": "2022-08-14T02:20:57.957320Z",
     "iopub.status.idle": "2022-08-14T02:20:57.961311Z",
     "shell.execute_reply": "2022-08-14T02:20:57.960571Z"
    },
    "papermill": {
     "duration": 0.025048,
     "end_time": "2022-08-14T02:20:57.963461",
     "exception": false,
     "start_time": "2022-08-14T02:20:57.938413",
     "status": "completed"
    },
    "tags": []
   },
   "outputs": [],
   "source": [
    "target = 'Disability-Adjusted Life Years'"
   ]
  },
  {
   "cell_type": "code",
   "execution_count": 29,
   "id": "60d09867",
   "metadata": {
    "execution": {
     "iopub.execute_input": "2022-08-14T02:20:58.000909Z",
     "iopub.status.busy": "2022-08-14T02:20:58.000227Z",
     "iopub.status.idle": "2022-08-14T02:20:58.018084Z",
     "shell.execute_reply": "2022-08-14T02:20:58.016658Z"
    },
    "papermill": {
     "duration": 0.040568,
     "end_time": "2022-08-14T02:20:58.021050",
     "exception": false,
     "start_time": "2022-08-14T02:20:57.980482",
     "status": "completed"
    },
    "tags": []
   },
   "outputs": [],
   "source": [
    "def label_encoding(old_column):\n",
    "    le = LabelEncoder()\n",
    "    le.fit(old_column)\n",
    "    new_column = le.transform(old_column)\n",
    "    return new_column\n",
    "for i in merged.columns:\n",
    "    if type(merged[i][0]) == str:\n",
    "        merged[i] = label_encoding(merged[i])\n",
    "        \n",
    "#extracting x and y\n",
    "y = merged[target].values\n",
    " \n",
    "x = merged.drop([target], axis=1).values\n",
    "\n",
    "#spliting  data\n",
    "X_train, X_test, y_train, y_test = train_test_split(x, \n",
    "                                                    y, \n",
    "                                                    test_size=0.2)\n",
    "\n"
   ]
  },
  {
   "cell_type": "code",
   "execution_count": 30,
   "id": "160c68b8",
   "metadata": {
    "execution": {
     "iopub.execute_input": "2022-08-14T02:20:58.058011Z",
     "iopub.status.busy": "2022-08-14T02:20:58.057605Z",
     "iopub.status.idle": "2022-08-14T02:25:28.448228Z",
     "shell.execute_reply": "2022-08-14T02:25:28.447335Z"
    },
    "papermill": {
     "duration": 270.431448,
     "end_time": "2022-08-14T02:25:28.469600",
     "exception": false,
     "start_time": "2022-08-14T02:20:58.038152",
     "status": "completed"
    },
    "tags": []
   },
   "outputs": [
    {
     "name": "stdout",
     "output_type": "stream",
     "text": [
      "1.4518592932896568\n"
     ]
    }
   ],
   "source": [
    "model_2 = XGBRegressor()\n",
    "\n",
    "params = {  \n",
    "        \"n_estimators\": st.randint(3, 40),\n",
    "        \"max_depth\": st.randint(3, 40),\n",
    "        \"learning_rate\": st.uniform(0.05, 0.4),\n",
    "        \"colsample_bytree\": st.beta(10, 1),\n",
    "        \"subsample\": st.beta(10, 1),\n",
    "        \"gamma\": st.uniform(0, 10),\n",
    "        'scale_pos_weight': st.randint(0, 2),\n",
    "        \"min_child_weight\": st.expon(0, 50),\n",
    "\n",
    "    }\n",
    "\n",
    "# Random Search Training with 5 folds Cross Validation\n",
    "clf2 = RandomizedSearchCV(model_2, params, cv=5,\n",
    "                     n_jobs=1, n_iter=100) \n",
    "\n",
    "clf2.fit(X_train, y_train)  \n",
    "\n",
    "pred = clf2.predict(X_test)\n",
    "results = mean_squared_error(pred, y_test)\n",
    "print(results)"
   ]
  },
  {
   "cell_type": "code",
   "execution_count": 31,
   "id": "d96cbc66",
   "metadata": {
    "execution": {
     "iopub.execute_input": "2022-08-14T02:25:28.505579Z",
     "iopub.status.busy": "2022-08-14T02:25:28.504947Z",
     "iopub.status.idle": "2022-08-14T02:25:28.520295Z",
     "shell.execute_reply": "2022-08-14T02:25:28.519312Z"
    },
    "papermill": {
     "duration": 0.036764,
     "end_time": "2022-08-14T02:25:28.523355",
     "exception": false,
     "start_time": "2022-08-14T02:25:28.486591",
     "status": "completed"
    },
    "tags": []
   },
   "outputs": [],
   "source": [
    "filename = 'clf2.sav'\n",
    "pickle.dump(clf2, open(filename, 'wb'))"
   ]
  },
  {
   "cell_type": "code",
   "execution_count": 32,
   "id": "32f241b3",
   "metadata": {
    "execution": {
     "iopub.execute_input": "2022-08-14T02:25:28.561039Z",
     "iopub.status.busy": "2022-08-14T02:25:28.560562Z",
     "iopub.status.idle": "2022-08-14T02:25:29.705078Z",
     "shell.execute_reply": "2022-08-14T02:25:29.703869Z"
    },
    "papermill": {
     "duration": 1.165997,
     "end_time": "2022-08-14T02:25:29.707818",
     "exception": false,
     "start_time": "2022-08-14T02:25:28.541821",
     "status": "completed"
    },
    "tags": []
   },
   "outputs": [
    {
     "name": "stdout",
     "output_type": "stream",
     "text": [
      "__notebook__.ipynb  clf2.sav\r\n"
     ]
    }
   ],
   "source": [
    "ls"
   ]
  }
 ],
 "metadata": {
  "kernelspec": {
   "display_name": "Python 3",
   "language": "python",
   "name": "python3"
  },
  "language_info": {
   "codemirror_mode": {
    "name": "ipython",
    "version": 3
   },
   "file_extension": ".py",
   "mimetype": "text/x-python",
   "name": "python",
   "nbconvert_exporter": "python",
   "pygments_lexer": "ipython3",
   "version": "3.7.12"
  },
  "papermill": {
   "default_parameters": {},
   "duration": 291.995189,
   "end_time": "2022-08-14T02:25:30.852133",
   "environment_variables": {},
   "exception": null,
   "input_path": "__notebook__.ipynb",
   "output_path": "__notebook__.ipynb",
   "parameters": {},
   "start_time": "2022-08-14T02:20:38.856944",
   "version": "2.3.4"
  }
 },
 "nbformat": 4,
 "nbformat_minor": 5
}
